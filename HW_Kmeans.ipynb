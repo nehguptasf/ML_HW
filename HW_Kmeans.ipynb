{
 "cells": [
  {
   "cell_type": "markdown",
   "metadata": {},
   "source": [
    "This dataset is about kickstarter projects sourced from kaggle"
   ]
  },
  {
   "cell_type": "code",
   "execution_count": 26,
   "metadata": {
    "collapsed": true
   },
   "outputs": [],
   "source": [
    "import pandas as pd\n",
    "from scipy import stats\n",
    "from sklearn.cluster import KMeans\n",
    "import matplotlib.pyplot as plt\n",
    "import seaborn as sns"
   ]
  },
  {
   "cell_type": "code",
   "execution_count": 27,
   "metadata": {
    "collapsed": true
   },
   "outputs": [],
   "source": [
    "LiveProjects = pd.read_csv(\"live.csv\")"
   ]
  },
  {
   "cell_type": "code",
   "execution_count": 28,
   "metadata": {},
   "outputs": [
    {
     "data": {
      "text/html": [
       "<div>\n",
       "<style scoped>\n",
       "    .dataframe tbody tr th:only-of-type {\n",
       "        vertical-align: middle;\n",
       "    }\n",
       "\n",
       "    .dataframe tbody tr th {\n",
       "        vertical-align: top;\n",
       "    }\n",
       "\n",
       "    .dataframe thead th {\n",
       "        text-align: right;\n",
       "    }\n",
       "</style>\n",
       "<table border=\"1\" class=\"dataframe\">\n",
       "  <thead>\n",
       "    <tr style=\"text-align: right;\">\n",
       "      <th></th>\n",
       "      <th>Unnamed: 0</th>\n",
       "      <th>amt.pledged</th>\n",
       "      <th>blurb</th>\n",
       "      <th>by</th>\n",
       "      <th>country</th>\n",
       "      <th>currency</th>\n",
       "      <th>end.time</th>\n",
       "      <th>location</th>\n",
       "      <th>percentage.funded</th>\n",
       "      <th>state</th>\n",
       "      <th>title</th>\n",
       "      <th>type</th>\n",
       "      <th>url</th>\n",
       "    </tr>\n",
       "  </thead>\n",
       "  <tbody>\n",
       "    <tr>\n",
       "      <th>0</th>\n",
       "      <td>0</td>\n",
       "      <td>15823.0</td>\n",
       "      <td>\\n'Catalysts, Explorers &amp; Secret Keepers: Wome...</td>\n",
       "      <td>Museum of Science Fiction</td>\n",
       "      <td>US</td>\n",
       "      <td>usd</td>\n",
       "      <td>2016-11-01T23:59:00-04:00</td>\n",
       "      <td>Washington, DC</td>\n",
       "      <td>186</td>\n",
       "      <td>DC</td>\n",
       "      <td>Catalysts, Explorers &amp; Secret Keepers: Women o...</td>\n",
       "      <td>Town</td>\n",
       "      <td>/projects/1608905146/catalysts-explorers-and-s...</td>\n",
       "    </tr>\n",
       "    <tr>\n",
       "      <th>1</th>\n",
       "      <td>1</td>\n",
       "      <td>6859.0</td>\n",
       "      <td>\\nA unique handmade picture book for kids &amp; ar...</td>\n",
       "      <td>Tyrone Wells &amp; Broken Eagle, LLC</td>\n",
       "      <td>US</td>\n",
       "      <td>usd</td>\n",
       "      <td>2016-11-25T01:13:33-05:00</td>\n",
       "      <td>Portland, OR</td>\n",
       "      <td>8</td>\n",
       "      <td>OR</td>\n",
       "      <td>The Whatamagump (a hand-crafted story picture ...</td>\n",
       "      <td>Town</td>\n",
       "      <td>/projects/thewhatamagump/the-whatamagump-a-han...</td>\n",
       "    </tr>\n",
       "    <tr>\n",
       "      <th>2</th>\n",
       "      <td>2</td>\n",
       "      <td>17906.0</td>\n",
       "      <td>\\nA horror comedy about a repairman who was in...</td>\n",
       "      <td>Tessa Stone</td>\n",
       "      <td>US</td>\n",
       "      <td>usd</td>\n",
       "      <td>2016-11-23T23:00:00-05:00</td>\n",
       "      <td>Los Angeles, CA</td>\n",
       "      <td>102</td>\n",
       "      <td>CA</td>\n",
       "      <td>Not Drunk Enough Volume 1!</td>\n",
       "      <td>Town</td>\n",
       "      <td>/projects/1890925998/not-drunk-enough-volume-1...</td>\n",
       "    </tr>\n",
       "    <tr>\n",
       "      <th>3</th>\n",
       "      <td>3</td>\n",
       "      <td>67081.0</td>\n",
       "      <td>\\nThe Johnny Wander autobio omnibus you've all...</td>\n",
       "      <td>Johnny Wander</td>\n",
       "      <td>US</td>\n",
       "      <td>usd</td>\n",
       "      <td>2016-11-01T23:50:00-04:00</td>\n",
       "      <td>Brooklyn, NY</td>\n",
       "      <td>191</td>\n",
       "      <td>NY</td>\n",
       "      <td>Our Cats Are More Famous Than Us: A Johnny Wan...</td>\n",
       "      <td>County</td>\n",
       "      <td>/projects/746734715/our-cats-are-more-famous-t...</td>\n",
       "    </tr>\n",
       "    <tr>\n",
       "      <th>4</th>\n",
       "      <td>4</td>\n",
       "      <td>32772.0</td>\n",
       "      <td>\\nThe vision for this project is the establish...</td>\n",
       "      <td>Beau's All Natural Brewing Company</td>\n",
       "      <td>RW</td>\n",
       "      <td>cad</td>\n",
       "      <td>2016-11-18T23:05:48-05:00</td>\n",
       "      <td>Kigali, Rwanda</td>\n",
       "      <td>34</td>\n",
       "      <td>Kigali Province</td>\n",
       "      <td>The Rwanda Craft Brewery Project</td>\n",
       "      <td>Town</td>\n",
       "      <td>/projects/beaus/the-rwanda-craft-brewery-proje...</td>\n",
       "    </tr>\n",
       "  </tbody>\n",
       "</table>\n",
       "</div>"
      ],
      "text/plain": [
       "   Unnamed: 0  amt.pledged                                              blurb  \\\n",
       "0           0      15823.0  \\n'Catalysts, Explorers & Secret Keepers: Wome...   \n",
       "1           1       6859.0  \\nA unique handmade picture book for kids & ar...   \n",
       "2           2      17906.0  \\nA horror comedy about a repairman who was in...   \n",
       "3           3      67081.0  \\nThe Johnny Wander autobio omnibus you've all...   \n",
       "4           4      32772.0  \\nThe vision for this project is the establish...   \n",
       "\n",
       "                                   by country currency  \\\n",
       "0           Museum of Science Fiction      US      usd   \n",
       "1    Tyrone Wells & Broken Eagle, LLC      US      usd   \n",
       "2                         Tessa Stone      US      usd   \n",
       "3                       Johnny Wander      US      usd   \n",
       "4  Beau's All Natural Brewing Company      RW      cad   \n",
       "\n",
       "                    end.time         location  percentage.funded  \\\n",
       "0  2016-11-01T23:59:00-04:00   Washington, DC                186   \n",
       "1  2016-11-25T01:13:33-05:00     Portland, OR                  8   \n",
       "2  2016-11-23T23:00:00-05:00  Los Angeles, CA                102   \n",
       "3  2016-11-01T23:50:00-04:00     Brooklyn, NY                191   \n",
       "4  2016-11-18T23:05:48-05:00   Kigali, Rwanda                 34   \n",
       "\n",
       "             state                                              title    type  \\\n",
       "0               DC  Catalysts, Explorers & Secret Keepers: Women o...    Town   \n",
       "1               OR  The Whatamagump (a hand-crafted story picture ...    Town   \n",
       "2               CA                         Not Drunk Enough Volume 1!    Town   \n",
       "3               NY  Our Cats Are More Famous Than Us: A Johnny Wan...  County   \n",
       "4  Kigali Province                   The Rwanda Craft Brewery Project    Town   \n",
       "\n",
       "                                                 url  \n",
       "0  /projects/1608905146/catalysts-explorers-and-s...  \n",
       "1  /projects/thewhatamagump/the-whatamagump-a-han...  \n",
       "2  /projects/1890925998/not-drunk-enough-volume-1...  \n",
       "3  /projects/746734715/our-cats-are-more-famous-t...  \n",
       "4  /projects/beaus/the-rwanda-craft-brewery-proje...  "
      ]
     },
     "execution_count": 28,
     "metadata": {},
     "output_type": "execute_result"
    }
   ],
   "source": [
    "LiveProjects.head(n=5)"
   ]
  },
  {
   "cell_type": "code",
   "execution_count": 29,
   "metadata": {
    "collapsed": true
   },
   "outputs": [],
   "source": [
    "Mostbacked = pd.read_csv(\"most_backed.csv\")"
   ]
  },
  {
   "cell_type": "code",
   "execution_count": 30,
   "metadata": {},
   "outputs": [
    {
     "data": {
      "text/html": [
       "<div>\n",
       "<style scoped>\n",
       "    .dataframe tbody tr th:only-of-type {\n",
       "        vertical-align: middle;\n",
       "    }\n",
       "\n",
       "    .dataframe tbody tr th {\n",
       "        vertical-align: top;\n",
       "    }\n",
       "\n",
       "    .dataframe thead th {\n",
       "        text-align: right;\n",
       "    }\n",
       "</style>\n",
       "<table border=\"1\" class=\"dataframe\">\n",
       "  <thead>\n",
       "    <tr style=\"text-align: right;\">\n",
       "      <th></th>\n",
       "      <th>Unnamed: 0</th>\n",
       "      <th>amt.pledged</th>\n",
       "      <th>blurb</th>\n",
       "      <th>by</th>\n",
       "      <th>category</th>\n",
       "      <th>currency</th>\n",
       "      <th>goal</th>\n",
       "      <th>location</th>\n",
       "      <th>num.backers</th>\n",
       "      <th>num.backers.tier</th>\n",
       "      <th>pledge.tier</th>\n",
       "      <th>title</th>\n",
       "      <th>url</th>\n",
       "    </tr>\n",
       "  </thead>\n",
       "  <tbody>\n",
       "    <tr>\n",
       "      <th>0</th>\n",
       "      <td>0</td>\n",
       "      <td>8782571.0</td>\n",
       "      <td>\\nThis is a card game for people who are into ...</td>\n",
       "      <td>Elan Lee</td>\n",
       "      <td>Tabletop Games</td>\n",
       "      <td>usd</td>\n",
       "      <td>10000.0</td>\n",
       "      <td>Los Angeles, CA</td>\n",
       "      <td>219382</td>\n",
       "      <td>[15505, 202934, 200, 5]</td>\n",
       "      <td>[20.0, 35.0, 100.0, 500.0]</td>\n",
       "      <td>Exploding Kittens</td>\n",
       "      <td>/projects/elanlee/exploding-kittens</td>\n",
       "    </tr>\n",
       "    <tr>\n",
       "      <th>1</th>\n",
       "      <td>1</td>\n",
       "      <td>6465690.0</td>\n",
       "      <td>\\nAn unusually addicting, high-quality desk to...</td>\n",
       "      <td>Matthew and Mark McLachlan</td>\n",
       "      <td>Product Design</td>\n",
       "      <td>usd</td>\n",
       "      <td>15000.0</td>\n",
       "      <td>Denver, CO</td>\n",
       "      <td>154926</td>\n",
       "      <td>[788, 250, 43073, 21796, 41727, 21627, 12215, ...</td>\n",
       "      <td>[1.0, 14.0, 19.0, 19.0, 35.0, 35.0, 79.0, 79.0...</td>\n",
       "      <td>Fidget Cube: A Vinyl Desk Toy</td>\n",
       "      <td>/projects/antsylabs/fidget-cube-a-vinyl-desk-toy</td>\n",
       "    </tr>\n",
       "    <tr>\n",
       "      <th>2</th>\n",
       "      <td>2</td>\n",
       "      <td>5408916.0</td>\n",
       "      <td>\\nBring Reading Rainbow’s library of interacti...</td>\n",
       "      <td>LeVar Burton &amp; Reading Rainbow</td>\n",
       "      <td>Web</td>\n",
       "      <td>usd</td>\n",
       "      <td>1000000.0</td>\n",
       "      <td>Los Angeles, CA</td>\n",
       "      <td>105857</td>\n",
       "      <td>[19639, 14343, 9136, 2259, 5666, 24512, 4957, ...</td>\n",
       "      <td>[5.0, 10.0, 25.0, 30.0, 35.0, 50.0, 75.0, 100....</td>\n",
       "      <td>Bring Reading Rainbow Back for Every Child, Ev...</td>\n",
       "      <td>/projects/readingrainbow/bring-reading-rainbow...</td>\n",
       "    </tr>\n",
       "    <tr>\n",
       "      <th>3</th>\n",
       "      <td>3</td>\n",
       "      <td>5702153.0</td>\n",
       "      <td>\\nUPDATED: This is it. We're making a Veronica...</td>\n",
       "      <td>Rob Thomas</td>\n",
       "      <td>Narrative Film</td>\n",
       "      <td>usd</td>\n",
       "      <td>2000000.0</td>\n",
       "      <td>San Diego, CA</td>\n",
       "      <td>91585</td>\n",
       "      <td>[5938, 8423, 11509, 22997, 23227, 1865, 7260, ...</td>\n",
       "      <td>[1.0, 10.0, 25.0, 35.0, 50.0, 75.0, 100.0, 150...</td>\n",
       "      <td>The Veronica Mars Movie Project</td>\n",
       "      <td>/projects/559914737/the-veronica-mars-movie-pr...</td>\n",
       "    </tr>\n",
       "    <tr>\n",
       "      <th>4</th>\n",
       "      <td>4</td>\n",
       "      <td>3336371.0</td>\n",
       "      <td>\\nAn adventure game from Tim Schafer, Double F...</td>\n",
       "      <td>Double Fine and 2 Player Productions</td>\n",
       "      <td>Video Games</td>\n",
       "      <td>usd</td>\n",
       "      <td>400000.0</td>\n",
       "      <td>San Francisco, CA</td>\n",
       "      <td>87142</td>\n",
       "      <td>[47946, 24636, 1090, 11530, 900, 148, 100, 10, 4]</td>\n",
       "      <td>[15.0, 30.0, 60.0, 100.0, 250.0, 500.0, 1000.0...</td>\n",
       "      <td>Double Fine Adventure</td>\n",
       "      <td>/projects/doublefine/double-fine-adventure</td>\n",
       "    </tr>\n",
       "  </tbody>\n",
       "</table>\n",
       "</div>"
      ],
      "text/plain": [
       "   Unnamed: 0  amt.pledged                                              blurb  \\\n",
       "0           0    8782571.0  \\nThis is a card game for people who are into ...   \n",
       "1           1    6465690.0  \\nAn unusually addicting, high-quality desk to...   \n",
       "2           2    5408916.0  \\nBring Reading Rainbow’s library of interacti...   \n",
       "3           3    5702153.0  \\nUPDATED: This is it. We're making a Veronica...   \n",
       "4           4    3336371.0  \\nAn adventure game from Tim Schafer, Double F...   \n",
       "\n",
       "                                     by        category currency       goal  \\\n",
       "0                              Elan Lee  Tabletop Games      usd    10000.0   \n",
       "1            Matthew and Mark McLachlan  Product Design      usd    15000.0   \n",
       "2        LeVar Burton & Reading Rainbow             Web      usd  1000000.0   \n",
       "3                            Rob Thomas  Narrative Film      usd  2000000.0   \n",
       "4  Double Fine and 2 Player Productions     Video Games      usd   400000.0   \n",
       "\n",
       "            location  num.backers  \\\n",
       "0    Los Angeles, CA       219382   \n",
       "1         Denver, CO       154926   \n",
       "2    Los Angeles, CA       105857   \n",
       "3      San Diego, CA        91585   \n",
       "4  San Francisco, CA        87142   \n",
       "\n",
       "                                    num.backers.tier  \\\n",
       "0                            [15505, 202934, 200, 5]   \n",
       "1  [788, 250, 43073, 21796, 41727, 21627, 12215, ...   \n",
       "2  [19639, 14343, 9136, 2259, 5666, 24512, 4957, ...   \n",
       "3  [5938, 8423, 11509, 22997, 23227, 1865, 7260, ...   \n",
       "4  [47946, 24636, 1090, 11530, 900, 148, 100, 10, 4]   \n",
       "\n",
       "                                         pledge.tier  \\\n",
       "0                         [20.0, 35.0, 100.0, 500.0]   \n",
       "1  [1.0, 14.0, 19.0, 19.0, 35.0, 35.0, 79.0, 79.0...   \n",
       "2  [5.0, 10.0, 25.0, 30.0, 35.0, 50.0, 75.0, 100....   \n",
       "3  [1.0, 10.0, 25.0, 35.0, 50.0, 75.0, 100.0, 150...   \n",
       "4  [15.0, 30.0, 60.0, 100.0, 250.0, 500.0, 1000.0...   \n",
       "\n",
       "                                               title  \\\n",
       "0                                  Exploding Kittens   \n",
       "1                      Fidget Cube: A Vinyl Desk Toy   \n",
       "2  Bring Reading Rainbow Back for Every Child, Ev...   \n",
       "3                    The Veronica Mars Movie Project   \n",
       "4                              Double Fine Adventure   \n",
       "\n",
       "                                                 url  \n",
       "0                /projects/elanlee/exploding-kittens  \n",
       "1   /projects/antsylabs/fidget-cube-a-vinyl-desk-toy  \n",
       "2  /projects/readingrainbow/bring-reading-rainbow...  \n",
       "3  /projects/559914737/the-veronica-mars-movie-pr...  \n",
       "4         /projects/doublefine/double-fine-adventure  "
      ]
     },
     "execution_count": 30,
     "metadata": {},
     "output_type": "execute_result"
    }
   ],
   "source": [
    "Mostbacked.head(n=5)"
   ]
  },
  {
   "cell_type": "code",
   "execution_count": 31,
   "metadata": {
    "collapsed": true
   },
   "outputs": [],
   "source": [
    "Columns = [\"amt.pledged\",\"category\",\"currency\",\"location\",\"goal\",\"num.backers\"]"
   ]
  },
  {
   "cell_type": "code",
   "execution_count": 32,
   "metadata": {
    "collapsed": true
   },
   "outputs": [],
   "source": [
    "Columns1 = [\"amt.pledged\",\"currency\",\"location\",\"percentage.funded\"]"
   ]
  },
  {
   "cell_type": "code",
   "execution_count": 33,
   "metadata": {
    "collapsed": true
   },
   "outputs": [],
   "source": [
    "LDF = LiveProjects[Columns1]\n",
    "MBDF = Mostbacked[Columns]"
   ]
  },
  {
   "cell_type": "code",
   "execution_count": 34,
   "metadata": {},
   "outputs": [
    {
     "data": {
      "text/html": [
       "<div>\n",
       "<style scoped>\n",
       "    .dataframe tbody tr th:only-of-type {\n",
       "        vertical-align: middle;\n",
       "    }\n",
       "\n",
       "    .dataframe tbody tr th {\n",
       "        vertical-align: top;\n",
       "    }\n",
       "\n",
       "    .dataframe thead th {\n",
       "        text-align: right;\n",
       "    }\n",
       "</style>\n",
       "<table border=\"1\" class=\"dataframe\">\n",
       "  <thead>\n",
       "    <tr style=\"text-align: right;\">\n",
       "      <th></th>\n",
       "      <th>amt.pledged</th>\n",
       "      <th>category</th>\n",
       "      <th>currency</th>\n",
       "      <th>location</th>\n",
       "      <th>goal</th>\n",
       "      <th>num.backers</th>\n",
       "    </tr>\n",
       "  </thead>\n",
       "  <tbody>\n",
       "    <tr>\n",
       "      <th>0</th>\n",
       "      <td>8782571.0</td>\n",
       "      <td>Tabletop Games</td>\n",
       "      <td>usd</td>\n",
       "      <td>Los Angeles, CA</td>\n",
       "      <td>10000.0</td>\n",
       "      <td>219382</td>\n",
       "    </tr>\n",
       "    <tr>\n",
       "      <th>1</th>\n",
       "      <td>6465690.0</td>\n",
       "      <td>Product Design</td>\n",
       "      <td>usd</td>\n",
       "      <td>Denver, CO</td>\n",
       "      <td>15000.0</td>\n",
       "      <td>154926</td>\n",
       "    </tr>\n",
       "    <tr>\n",
       "      <th>2</th>\n",
       "      <td>5408916.0</td>\n",
       "      <td>Web</td>\n",
       "      <td>usd</td>\n",
       "      <td>Los Angeles, CA</td>\n",
       "      <td>1000000.0</td>\n",
       "      <td>105857</td>\n",
       "    </tr>\n",
       "    <tr>\n",
       "      <th>3</th>\n",
       "      <td>5702153.0</td>\n",
       "      <td>Narrative Film</td>\n",
       "      <td>usd</td>\n",
       "      <td>San Diego, CA</td>\n",
       "      <td>2000000.0</td>\n",
       "      <td>91585</td>\n",
       "    </tr>\n",
       "    <tr>\n",
       "      <th>4</th>\n",
       "      <td>3336371.0</td>\n",
       "      <td>Video Games</td>\n",
       "      <td>usd</td>\n",
       "      <td>San Francisco, CA</td>\n",
       "      <td>400000.0</td>\n",
       "      <td>87142</td>\n",
       "    </tr>\n",
       "  </tbody>\n",
       "</table>\n",
       "</div>"
      ],
      "text/plain": [
       "   amt.pledged        category currency           location       goal  \\\n",
       "0    8782571.0  Tabletop Games      usd    Los Angeles, CA    10000.0   \n",
       "1    6465690.0  Product Design      usd         Denver, CO    15000.0   \n",
       "2    5408916.0             Web      usd    Los Angeles, CA  1000000.0   \n",
       "3    5702153.0  Narrative Film      usd      San Diego, CA  2000000.0   \n",
       "4    3336371.0     Video Games      usd  San Francisco, CA   400000.0   \n",
       "\n",
       "   num.backers  \n",
       "0       219382  \n",
       "1       154926  \n",
       "2       105857  \n",
       "3        91585  \n",
       "4        87142  "
      ]
     },
     "execution_count": 34,
     "metadata": {},
     "output_type": "execute_result"
    }
   ],
   "source": [
    "MBDF.head()"
   ]
  },
  {
   "cell_type": "code",
   "execution_count": 35,
   "metadata": {},
   "outputs": [
    {
     "name": "stderr",
     "output_type": "stream",
     "text": [
      "C:\\Users\\Neha\\Anaconda2\\envs\\py36-test\\lib\\site-packages\\ipykernel_launcher.py:3: SettingWithCopyWarning: \n",
      "A value is trying to be set on a copy of a slice from a DataFrame.\n",
      "Try using .loc[row_indexer,col_indexer] = value instead\n",
      "\n",
      "See the caveats in the documentation: http://pandas.pydata.org/pandas-docs/stable/indexing.html#indexing-view-versus-copy\n",
      "  This is separate from the ipykernel package so we can avoid doing imports until\n"
     ]
    }
   ],
   "source": [
    "cols = [\"amt.pledged\",\"goal\",\"num.backers\"]\n",
    "for col in cols:\n",
    "  MBDF[col] = (MBDF[col] - MBDF[col].mean())/MBDF[col].std(ddof=0)"
   ]
  },
  {
   "cell_type": "code",
   "execution_count": 36,
   "metadata": {},
   "outputs": [
    {
     "data": {
      "text/html": [
       "<div>\n",
       "<style scoped>\n",
       "    .dataframe tbody tr th:only-of-type {\n",
       "        vertical-align: middle;\n",
       "    }\n",
       "\n",
       "    .dataframe tbody tr th {\n",
       "        vertical-align: top;\n",
       "    }\n",
       "\n",
       "    .dataframe thead th {\n",
       "        text-align: right;\n",
       "    }\n",
       "</style>\n",
       "<table border=\"1\" class=\"dataframe\">\n",
       "  <thead>\n",
       "    <tr style=\"text-align: right;\">\n",
       "      <th></th>\n",
       "      <th>amt.pledged</th>\n",
       "      <th>category</th>\n",
       "      <th>currency</th>\n",
       "      <th>location</th>\n",
       "      <th>goal</th>\n",
       "      <th>num.backers</th>\n",
       "    </tr>\n",
       "  </thead>\n",
       "  <tbody>\n",
       "    <tr>\n",
       "      <th>0</th>\n",
       "      <td>11.930327</td>\n",
       "      <td>Tabletop Games</td>\n",
       "      <td>usd</td>\n",
       "      <td>Los Angeles, CA</td>\n",
       "      <td>-0.408604</td>\n",
       "      <td>29.500146</td>\n",
       "    </tr>\n",
       "    <tr>\n",
       "      <th>1</th>\n",
       "      <td>8.675586</td>\n",
       "      <td>Product Design</td>\n",
       "      <td>usd</td>\n",
       "      <td>Denver, CO</td>\n",
       "      <td>-0.369127</td>\n",
       "      <td>20.688890</td>\n",
       "    </tr>\n",
       "    <tr>\n",
       "      <th>2</th>\n",
       "      <td>7.191036</td>\n",
       "      <td>Web</td>\n",
       "      <td>usd</td>\n",
       "      <td>Los Angeles, CA</td>\n",
       "      <td>7.407866</td>\n",
       "      <td>13.981065</td>\n",
       "    </tr>\n",
       "    <tr>\n",
       "      <th>3</th>\n",
       "      <td>7.602973</td>\n",
       "      <td>Narrative Film</td>\n",
       "      <td>usd</td>\n",
       "      <td>San Diego, CA</td>\n",
       "      <td>15.303290</td>\n",
       "      <td>12.030056</td>\n",
       "    </tr>\n",
       "    <tr>\n",
       "      <th>4</th>\n",
       "      <td>4.279536</td>\n",
       "      <td>Video Games</td>\n",
       "      <td>usd</td>\n",
       "      <td>San Francisco, CA</td>\n",
       "      <td>2.670611</td>\n",
       "      <td>11.422690</td>\n",
       "    </tr>\n",
       "  </tbody>\n",
       "</table>\n",
       "</div>"
      ],
      "text/plain": [
       "   amt.pledged        category currency           location       goal  \\\n",
       "0    11.930327  Tabletop Games      usd    Los Angeles, CA  -0.408604   \n",
       "1     8.675586  Product Design      usd         Denver, CO  -0.369127   \n",
       "2     7.191036             Web      usd    Los Angeles, CA   7.407866   \n",
       "3     7.602973  Narrative Film      usd      San Diego, CA  15.303290   \n",
       "4     4.279536     Video Games      usd  San Francisco, CA   2.670611   \n",
       "\n",
       "   num.backers  \n",
       "0    29.500146  \n",
       "1    20.688890  \n",
       "2    13.981065  \n",
       "3    12.030056  \n",
       "4    11.422690  "
      ]
     },
     "execution_count": 36,
     "metadata": {},
     "output_type": "execute_result"
    }
   ],
   "source": [
    "MBDF.head()"
   ]
  },
  {
   "cell_type": "code",
   "execution_count": 37,
   "metadata": {},
   "outputs": [
    {
     "data": {
      "text/plain": [
       "amt.pledged    float64\n",
       "category        object\n",
       "currency        object\n",
       "location        object\n",
       "goal           float64\n",
       "num.backers    float64\n",
       "dtype: object"
      ]
     },
     "execution_count": 37,
     "metadata": {},
     "output_type": "execute_result"
    }
   ],
   "source": [
    "MBDF.dtypes"
   ]
  },
  {
   "cell_type": "code",
   "execution_count": 38,
   "metadata": {
    "collapsed": true
   },
   "outputs": [],
   "source": [
    "cat_columns = MBDF.select_dtypes(['category']).columns"
   ]
  },
  {
   "cell_type": "code",
   "execution_count": 39,
   "metadata": {},
   "outputs": [
    {
     "data": {
      "text/plain": [
       "Index([], dtype='object')"
      ]
     },
     "execution_count": 39,
     "metadata": {},
     "output_type": "execute_result"
    }
   ],
   "source": [
    "cat_columns"
   ]
  },
  {
   "cell_type": "code",
   "execution_count": 40,
   "metadata": {},
   "outputs": [
    {
     "name": "stderr",
     "output_type": "stream",
     "text": [
      "C:\\Users\\Neha\\Anaconda2\\envs\\py36-test\\lib\\site-packages\\ipykernel_launcher.py:2: SettingWithCopyWarning: \n",
      "A value is trying to be set on a copy of a slice from a DataFrame.\n",
      "Try using .loc[row_indexer,col_indexer] = value instead\n",
      "\n",
      "See the caveats in the documentation: http://pandas.pydata.org/pandas-docs/stable/indexing.html#indexing-view-versus-copy\n",
      "  \n"
     ]
    }
   ],
   "source": [
    "for col in ['category', 'currency', 'location']:\n",
    "    MBDF[col] = MBDF[col].astype('category')"
   ]
  },
  {
   "cell_type": "code",
   "execution_count": 41,
   "metadata": {},
   "outputs": [
    {
     "data": {
      "text/plain": [
       "amt.pledged     float64\n",
       "category       category\n",
       "currency       category\n",
       "location       category\n",
       "goal            float64\n",
       "num.backers     float64\n",
       "dtype: object"
      ]
     },
     "execution_count": 41,
     "metadata": {},
     "output_type": "execute_result"
    }
   ],
   "source": [
    "MBDF.dtypes"
   ]
  },
  {
   "cell_type": "code",
   "execution_count": 42,
   "metadata": {},
   "outputs": [
    {
     "data": {
      "text/plain": [
       "Index(['category', 'currency', 'location'], dtype='object')"
      ]
     },
     "execution_count": 42,
     "metadata": {},
     "output_type": "execute_result"
    }
   ],
   "source": [
    "cat_columns = MBDF.select_dtypes(['category']).columns\n",
    "cat_columns"
   ]
  },
  {
   "cell_type": "code",
   "execution_count": 43,
   "metadata": {},
   "outputs": [
    {
     "name": "stderr",
     "output_type": "stream",
     "text": [
      "C:\\Users\\Neha\\Anaconda2\\envs\\py36-test\\lib\\site-packages\\pandas\\core\\frame.py:2540: SettingWithCopyWarning: \n",
      "A value is trying to be set on a copy of a slice from a DataFrame.\n",
      "Try using .loc[row_indexer,col_indexer] = value instead\n",
      "\n",
      "See the caveats in the documentation: http://pandas.pydata.org/pandas-docs/stable/indexing.html#indexing-view-versus-copy\n",
      "  self[k1] = value[k2]\n"
     ]
    }
   ],
   "source": [
    "MBDF[cat_columns] = MBDF[cat_columns].apply(lambda x: x.cat.codes)"
   ]
  },
  {
   "cell_type": "code",
   "execution_count": 44,
   "metadata": {},
   "outputs": [
    {
     "data": {
      "text/html": [
       "<div>\n",
       "<style scoped>\n",
       "    .dataframe tbody tr th:only-of-type {\n",
       "        vertical-align: middle;\n",
       "    }\n",
       "\n",
       "    .dataframe tbody tr th {\n",
       "        vertical-align: top;\n",
       "    }\n",
       "\n",
       "    .dataframe thead th {\n",
       "        text-align: right;\n",
       "    }\n",
       "</style>\n",
       "<table border=\"1\" class=\"dataframe\">\n",
       "  <thead>\n",
       "    <tr style=\"text-align: right;\">\n",
       "      <th></th>\n",
       "      <th>amt.pledged</th>\n",
       "      <th>category</th>\n",
       "      <th>currency</th>\n",
       "      <th>location</th>\n",
       "      <th>goal</th>\n",
       "      <th>num.backers</th>\n",
       "    </tr>\n",
       "  </thead>\n",
       "  <tbody>\n",
       "    <tr>\n",
       "      <th>0</th>\n",
       "      <td>11.930327</td>\n",
       "      <td>99</td>\n",
       "      <td>8</td>\n",
       "      <td>401</td>\n",
       "      <td>-0.408604</td>\n",
       "      <td>29.500146</td>\n",
       "    </tr>\n",
       "    <tr>\n",
       "      <th>1</th>\n",
       "      <td>8.675586</td>\n",
       "      <td>80</td>\n",
       "      <td>8</td>\n",
       "      <td>182</td>\n",
       "      <td>-0.369127</td>\n",
       "      <td>20.688890</td>\n",
       "    </tr>\n",
       "    <tr>\n",
       "      <th>2</th>\n",
       "      <td>7.191036</td>\n",
       "      <td>109</td>\n",
       "      <td>8</td>\n",
       "      <td>401</td>\n",
       "      <td>7.407866</td>\n",
       "      <td>13.981065</td>\n",
       "    </tr>\n",
       "    <tr>\n",
       "      <th>3</th>\n",
       "      <td>7.602973</td>\n",
       "      <td>68</td>\n",
       "      <td>8</td>\n",
       "      <td>606</td>\n",
       "      <td>15.303290</td>\n",
       "      <td>12.030056</td>\n",
       "    </tr>\n",
       "    <tr>\n",
       "      <th>4</th>\n",
       "      <td>4.279536</td>\n",
       "      <td>107</td>\n",
       "      <td>8</td>\n",
       "      <td>607</td>\n",
       "      <td>2.670611</td>\n",
       "      <td>11.422690</td>\n",
       "    </tr>\n",
       "  </tbody>\n",
       "</table>\n",
       "</div>"
      ],
      "text/plain": [
       "   amt.pledged  category  currency  location       goal  num.backers\n",
       "0    11.930327        99         8       401  -0.408604    29.500146\n",
       "1     8.675586        80         8       182  -0.369127    20.688890\n",
       "2     7.191036       109         8       401   7.407866    13.981065\n",
       "3     7.602973        68         8       606  15.303290    12.030056\n",
       "4     4.279536       107         8       607   2.670611    11.422690"
      ]
     },
     "execution_count": 44,
     "metadata": {},
     "output_type": "execute_result"
    }
   ],
   "source": [
    "MBDF.head()"
   ]
  },
  {
   "cell_type": "code",
   "execution_count": 46,
   "metadata": {},
   "outputs": [
    {
     "name": "stderr",
     "output_type": "stream",
     "text": [
      "C:\\Users\\Neha\\Anaconda2\\envs\\py36-test\\lib\\site-packages\\ipykernel_launcher.py:6: SettingWithCopyWarning: \n",
      "A value is trying to be set on a copy of a slice from a DataFrame.\n",
      "Try using .loc[row_indexer,col_indexer] = value instead\n",
      "\n",
      "See the caveats in the documentation: http://pandas.pydata.org/pandas-docs/stable/indexing.html#indexing-view-versus-copy\n",
      "  \n"
     ]
    }
   ],
   "source": [
    "#Cluster the data\n",
    "kmeans = KMeans(n_clusters=5, random_state=0).fit(MBDF)\n",
    "labels = kmeans.labels_\n",
    "\n",
    "#Glue back to originaal data\n",
    "MBDF['clusters'] = labels\n",
    "\n"
   ]
  },
  {
   "cell_type": "code",
   "execution_count": 53,
   "metadata": {},
   "outputs": [
    {
     "data": {
      "text/html": [
       "<div>\n",
       "<style scoped>\n",
       "    .dataframe tbody tr th:only-of-type {\n",
       "        vertical-align: middle;\n",
       "    }\n",
       "\n",
       "    .dataframe tbody tr th {\n",
       "        vertical-align: top;\n",
       "    }\n",
       "\n",
       "    .dataframe thead th {\n",
       "        text-align: right;\n",
       "    }\n",
       "</style>\n",
       "<table border=\"1\" class=\"dataframe\">\n",
       "  <thead>\n",
       "    <tr style=\"text-align: right;\">\n",
       "      <th></th>\n",
       "      <th>amt.pledged</th>\n",
       "      <th>category</th>\n",
       "      <th>currency</th>\n",
       "      <th>location</th>\n",
       "      <th>goal</th>\n",
       "      <th>num.backers</th>\n",
       "      <th>clusters</th>\n",
       "    </tr>\n",
       "  </thead>\n",
       "  <tbody>\n",
       "    <tr>\n",
       "      <th>0</th>\n",
       "      <td>11.930327</td>\n",
       "      <td>99</td>\n",
       "      <td>8</td>\n",
       "      <td>401</td>\n",
       "      <td>-0.408604</td>\n",
       "      <td>29.500146</td>\n",
       "      <td>0</td>\n",
       "    </tr>\n",
       "    <tr>\n",
       "      <th>1</th>\n",
       "      <td>8.675586</td>\n",
       "      <td>80</td>\n",
       "      <td>8</td>\n",
       "      <td>182</td>\n",
       "      <td>-0.369127</td>\n",
       "      <td>20.688890</td>\n",
       "      <td>1</td>\n",
       "    </tr>\n",
       "    <tr>\n",
       "      <th>2</th>\n",
       "      <td>7.191036</td>\n",
       "      <td>109</td>\n",
       "      <td>8</td>\n",
       "      <td>401</td>\n",
       "      <td>7.407866</td>\n",
       "      <td>13.981065</td>\n",
       "      <td>0</td>\n",
       "    </tr>\n",
       "    <tr>\n",
       "      <th>3</th>\n",
       "      <td>7.602973</td>\n",
       "      <td>68</td>\n",
       "      <td>8</td>\n",
       "      <td>606</td>\n",
       "      <td>15.303290</td>\n",
       "      <td>12.030056</td>\n",
       "      <td>3</td>\n",
       "    </tr>\n",
       "    <tr>\n",
       "      <th>4</th>\n",
       "      <td>4.279536</td>\n",
       "      <td>107</td>\n",
       "      <td>8</td>\n",
       "      <td>607</td>\n",
       "      <td>2.670611</td>\n",
       "      <td>11.422690</td>\n",
       "      <td>3</td>\n",
       "    </tr>\n",
       "    <tr>\n",
       "      <th>5</th>\n",
       "      <td>28.164715</td>\n",
       "      <td>80</td>\n",
       "      <td>8</td>\n",
       "      <td>526</td>\n",
       "      <td>3.460154</td>\n",
       "      <td>10.237348</td>\n",
       "      <td>3</td>\n",
       "    </tr>\n",
       "    <tr>\n",
       "      <th>6</th>\n",
       "      <td>5.477202</td>\n",
       "      <td>107</td>\n",
       "      <td>8</td>\n",
       "      <td>479</td>\n",
       "      <td>6.618323</td>\n",
       "      <td>9.681518</td>\n",
       "      <td>0</td>\n",
       "    </tr>\n",
       "    <tr>\n",
       "      <th>7</th>\n",
       "      <td>5.193436</td>\n",
       "      <td>107</td>\n",
       "      <td>8</td>\n",
       "      <td>314</td>\n",
       "      <td>8.197408</td>\n",
       "      <td>9.624240</td>\n",
       "      <td>4</td>\n",
       "    </tr>\n",
       "    <tr>\n",
       "      <th>8</th>\n",
       "      <td>2.528787</td>\n",
       "      <td>107</td>\n",
       "      <td>5</td>\n",
       "      <td>183</td>\n",
       "      <td>0.894141</td>\n",
       "      <td>9.517612</td>\n",
       "      <td>1</td>\n",
       "    </tr>\n",
       "    <tr>\n",
       "      <th>9</th>\n",
       "      <td>3.817357</td>\n",
       "      <td>100</td>\n",
       "      <td>1</td>\n",
       "      <td>713</td>\n",
       "      <td>0.459892</td>\n",
       "      <td>9.096024</td>\n",
       "      <td>2</td>\n",
       "    </tr>\n",
       "  </tbody>\n",
       "</table>\n",
       "</div>"
      ],
      "text/plain": [
       "   amt.pledged  category  currency  location       goal  num.backers  clusters\n",
       "0    11.930327        99         8       401  -0.408604    29.500146         0\n",
       "1     8.675586        80         8       182  -0.369127    20.688890         1\n",
       "2     7.191036       109         8       401   7.407866    13.981065         0\n",
       "3     7.602973        68         8       606  15.303290    12.030056         3\n",
       "4     4.279536       107         8       607   2.670611    11.422690         3\n",
       "5    28.164715        80         8       526   3.460154    10.237348         3\n",
       "6     5.477202       107         8       479   6.618323     9.681518         0\n",
       "7     5.193436       107         8       314   8.197408     9.624240         4\n",
       "8     2.528787       107         5       183   0.894141     9.517612         1\n",
       "9     3.817357       100         1       713   0.459892     9.096024         2"
      ]
     },
     "execution_count": 53,
     "metadata": {},
     "output_type": "execute_result"
    }
   ],
   "source": [
    "MBDF.head(n=10)"
   ]
  },
  {
   "cell_type": "code",
   "execution_count": 52,
   "metadata": {},
   "outputs": [
    {
     "ename": "SyntaxError",
     "evalue": "invalid syntax (<ipython-input-52-9b9136aa7834>, line 3)",
     "output_type": "error",
     "traceback": [
      "\u001b[1;36m  File \u001b[1;32m\"<ipython-input-52-9b9136aa7834>\"\u001b[1;36m, line \u001b[1;32m3\u001b[0m\n\u001b[1;33m    print MBDF.groupby(['clusters']).mean()\u001b[0m\n\u001b[1;37m             ^\u001b[0m\n\u001b[1;31mSyntaxError\u001b[0m\u001b[1;31m:\u001b[0m invalid syntax\n"
     ]
    }
   ],
   "source": [
    "cols.extend(['clusters'])\n",
    "cols\n",
    "print MBDF.groupby(['clusters']).mean()"
   ]
  },
  {
   "cell_type": "code",
   "execution_count": 62,
   "metadata": {},
   "outputs": [
    {
     "name": "stderr",
     "output_type": "stream",
     "text": [
      "C:\\Users\\Neha\\Anaconda2\\envs\\py36-test\\lib\\site-packages\\matplotlib\\figure.py:418: UserWarning: matplotlib is currently using a non-GUI backend, so cannot show the figure\n",
      "  \"matplotlib is currently using a non-GUI backend, \"\n"
     ]
    },
    {
     "data": {
      "image/png": "[encoded data removed]",
      "text/plain": [
       "<matplotlib.figure.Figure at 0x289ec4967b8>"
      ]
     },
     "metadata": {},
     "output_type": "display_data"
    }
   ],
   "source": [
    "%matplotlib inline  \n",
    "fig = plt.figure()\n",
    "ax = fig.add_subplot(111)\n",
    "scatter = ax.scatter(MBDF['num.backers'],MBDF['category'],c=MBDF['clusters'],s=50)\n",
    "ax.set_xlabel('amount_pledged')\n",
    "ax.set_ylabel('num.backers')\n",
    "plt.colorbar(scatter)\n",
    "\n",
    "fig.show()"
   ]
  },
  {
   "cell_type": "code",
   "execution_count": 88,
   "metadata": {},
   "outputs": [
    {
     "name": "stderr",
     "output_type": "stream",
     "text": [
      "C:\\Users\\Neha\\Anaconda2\\envs\\py36-test\\lib\\site-packages\\ipykernel_launcher.py:7: SettingWithCopyWarning: \n",
      "A value is trying to be set on a copy of a slice from a DataFrame.\n",
      "Try using .loc[row_indexer,col_indexer] = value instead\n",
      "\n",
      "See the caveats in the documentation: http://pandas.pydata.org/pandas-docs/stable/indexing.html#indexing-view-versus-copy\n",
      "  import sys\n"
     ]
    },
    {
     "data": {
      "text/html": [
       "<div>\n",
       "<style scoped>\n",
       "    .dataframe tbody tr th:only-of-type {\n",
       "        vertical-align: middle;\n",
       "    }\n",
       "\n",
       "    .dataframe tbody tr th {\n",
       "        vertical-align: top;\n",
       "    }\n",
       "\n",
       "    .dataframe thead th {\n",
       "        text-align: right;\n",
       "    }\n",
       "</style>\n",
       "<table border=\"1\" class=\"dataframe\">\n",
       "  <thead>\n",
       "    <tr style=\"text-align: right;\">\n",
       "      <th></th>\n",
       "      <th>amt.pledged</th>\n",
       "      <th>category</th>\n",
       "      <th>clusters</th>\n",
       "    </tr>\n",
       "  </thead>\n",
       "  <tbody>\n",
       "    <tr>\n",
       "      <th>0</th>\n",
       "      <td>11.930327</td>\n",
       "      <td>99</td>\n",
       "      <td>2</td>\n",
       "    </tr>\n",
       "    <tr>\n",
       "      <th>1</th>\n",
       "      <td>8.675586</td>\n",
       "      <td>80</td>\n",
       "      <td>1</td>\n",
       "    </tr>\n",
       "    <tr>\n",
       "      <th>2</th>\n",
       "      <td>7.191036</td>\n",
       "      <td>109</td>\n",
       "      <td>2</td>\n",
       "    </tr>\n",
       "    <tr>\n",
       "      <th>3</th>\n",
       "      <td>7.602973</td>\n",
       "      <td>68</td>\n",
       "      <td>1</td>\n",
       "    </tr>\n",
       "    <tr>\n",
       "      <th>4</th>\n",
       "      <td>4.279536</td>\n",
       "      <td>107</td>\n",
       "      <td>2</td>\n",
       "    </tr>\n",
       "  </tbody>\n",
       "</table>\n",
       "</div>"
      ],
      "text/plain": [
       "   amt.pledged  category  clusters\n",
       "0    11.930327        99         2\n",
       "1     8.675586        80         1\n",
       "2     7.191036       109         2\n",
       "3     7.602973        68         1\n",
       "4     4.279536       107         2"
      ]
     },
     "execution_count": 88,
     "metadata": {},
     "output_type": "execute_result"
    }
   ],
   "source": [
    "colsk = ['amt.pledged','category']\n",
    "MBDF2 = MBDF[colsk]\n",
    "kmeans2 = KMeans(n_clusters=3, random_state=0).fit(MBDF2)\n",
    "labels2 = kmeans2.labels_\n",
    "\n",
    "#Glue back to originaal data\n",
    "MBDF2['clusters'] = labels2\n",
    "MBDF2.head()\n"
   ]
  },
  {
   "cell_type": "code",
   "execution_count": 89,
   "metadata": {},
   "outputs": [
    {
     "name": "stderr",
     "output_type": "stream",
     "text": [
      "C:\\Users\\Neha\\Anaconda2\\envs\\py36-test\\lib\\site-packages\\matplotlib\\figure.py:418: UserWarning: matplotlib is currently using a non-GUI backend, so cannot show the figure\n",
      "  \"matplotlib is currently using a non-GUI backend, \"\n"
     ]
    },
    {
     "data": {
      "image/png": "[encoded data removed]",
      "text/plain": [
       "<matplotlib.figure.Figure at 0x289eff723c8>"
      ]
     },
     "metadata": {},
     "output_type": "display_data"
    }
   ],
   "source": [
    "%matplotlib inline  \n",
    "fig = plt.figure()\n",
    "ax = fig.add_subplot(111)\n",
    "scatter = ax.scatter(MBDF2['amt.pledged'],MBDF2['category'],c=MBDF2['clusters'],s=50)\n",
    "ax.set_xlabel('amount_pledged')\n",
    "ax.set_ylabel('category')\n",
    "plt.colorbar(scatter)\n",
    "\n",
    "fig.show()"
   ]
  },
  {
   "cell_type": "code",
   "execution_count": 81,
   "metadata": {},
   "outputs": [
    {
     "data": {
      "image/png": "[encoded data removed]",
      "text/plain": [
       "<matplotlib.figure.Figure at 0x289ebe99da0>"
      ]
     },
     "metadata": {},
     "output_type": "display_data"
    }
   ],
   "source": [
    "import seaborn as sns\n",
    "g = sns.FacetGrid(MBDF,col = \"clusters\" ,hue = \"clusters\" ,col_wrap=2)\n",
    "g = g.map(plt.scatter, \"amt.pledged\" , \"location\")"
   ]
  },
  {
   "cell_type": "code",
   "execution_count": 85,
   "metadata": {},
   "outputs": [
    {
     "data": {
      "image/png": "[encoded data removed]",
      "text/plain": [
       "<matplotlib.figure.Figure at 0x289ee625828>"
      ]
     },
     "metadata": {},
     "output_type": "display_data"
    }
   ],
   "source": [
    "import seaborn as sns\n",
    "g = sns.FacetGrid(MBDF,col = \"clusters\" ,hue = \"clusters\" ,col_wrap=2)\n",
    "g = g.map(plt.scatter, \"location\" , \"category\")"
   ]
  },
  {
   "cell_type": "code",
   "execution_count": 87,
   "metadata": {},
   "outputs": [
    {
     "data": {
      "image/png": "[encoded data removed]",
      "text/plain": [
       "<matplotlib.figure.Figure at 0x289eec7dd68>"
      ]
     },
     "metadata": {},
     "output_type": "display_data"
    }
   ],
   "source": [
    "Nc = range(1, 20)\n",
    "kmeans = [KMeans(n_clusters=i) for i in Nc]\n",
    "kmeans\n",
    "score = [kmeans[i].fit(MBDF).score(MBDF) for i in range(len(kmeans))]\n",
    "score\n",
    "plt.plot(Nc,score)\n",
    "plt.xlabel('Number of Clusters')\n",
    "plt.ylabel('Score')\n",
    "plt.title('Elbow Curve')\n",
    "plt.show()"
   ]
  },
  {
   "cell_type": "code",
   "execution_count": null,
   "metadata": {
    "collapsed": true
   },
   "outputs": [],
   "source": []
  }
 ],
 "metadata": {
  "kernelspec": {
   "display_name": "Python 3",
   "language": "python",
   "name": "python3"
  },
  "language_info": {
   "codemirror_mode": {
    "name": "ipython",
    "version": 3
   },
   "file_extension": ".py",
   "mimetype": "text/x-python",
   "name": "python",
   "nbconvert_exporter": "python",
   "pygments_lexer": "ipython3",
   "version": "3.6.2"
  }
 },
 "nbformat": 4,
 "nbformat_minor": 2
}
