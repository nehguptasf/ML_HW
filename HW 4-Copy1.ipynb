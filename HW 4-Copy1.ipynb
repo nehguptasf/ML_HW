{
 "cells": [
  {
   "cell_type": "markdown",
   "metadata": {
    "collapsed": true
   },
   "source": [
    "#HW 4"
   ]
  },
  {
   "cell_type": "markdown",
   "metadata": {},
   "source": [
    "In Section 1.12.1.2, the reader was reminded that the results of a crossvalidation are random, due to the random partitioning into training and test sets. Try doing several runs of the linear and k-NN code in that section, comparing results. "
   ]
  },
  {
   "cell_type": "code",
   "execution_count": 2,
   "metadata": {},
   "outputs": [
    {
     "data": {
      "text/plain": [
       "'C:\\\\Users\\\\Neha'"
      ]
     },
     "execution_count": 2,
     "metadata": {},
     "output_type": "execute_result"
    }
   ],
   "source": [
    "import os\n",
    "os.getcwd()"
   ]
  },
  {
   "cell_type": "code",
   "execution_count": 33,
   "metadata": {},
   "outputs": [
    {
     "name": "stdout",
     "output_type": "stream",
     "text": [
      "(252, 18)\n"
     ]
    },
    {
     "data": {
      "text/plain": [
       "(0.548747067094588, 0.6653316732879837)"
      ]
     },
     "execution_count": 33,
     "metadata": {},
     "output_type": "execute_result"
    }
   ],
   "source": [
    "import pandas as pd\n",
    "import numpy as np\n",
    "from sklearn.model_selection import train_test_split\n",
    "from sklearn import datasets\n",
    "from sklearn.neighbors import KNeighborsRegressor\n",
    "from sklearn.linear_model import LinearRegression \n",
    "data = pd.read_csv('https://github.com/nehguptasf/ML_HW/blob/master/Data/bodyfat.csv')\n",
    "print(data.shape)\n",
    "data.head()\n",
    "xdata = data.iloc[:,5:]\n",
    "ydata = data.iloc[:,4]\n",
    "ydata.head()\n",
    "X_train, X_test, y_train, y_test = train_test_split(xdata, ydata, test_size=0.4, random_state=0)\n",
    "X_train.shape, y_train.shape\n",
    "reg = KNeighborsRegressor(n_neighbors=3).fit(X_train, y_train)\n",
    "lr = LinearRegression(normalize=True).fit(X_train, y_train)\n",
    "reg.score(X_test, y_test, sample_weight=None), lr.score(X_test, y_test, sample_weight=None)\n"
   ]
  },
  {
   "cell_type": "code",
   "execution_count": 29,
   "metadata": {},
   "outputs": [
    {
     "name": "stdout",
     "output_type": "stream",
     "text": [
      "(20090, 12)\n"
     ]
    }
   ],
   "source": []
  },
  {
   "cell_type": "code",
   "execution_count": null,
   "metadata": {
    "collapsed": true
   },
   "outputs": [],
   "source": []
  },
  {
   "cell_type": "markdown",
   "metadata": {},
   "source": [
    "Extend (1.28) to include interaction terms for age and gender, and age2 and gender. Run the new model, and ﬁnd the estimated eﬀect of being female, for a 32-year-old person with a Master’s degree.\n"
   ]
  },
  {
   "cell_type": "code",
   "execution_count": 61,
   "metadata": {},
   "outputs": [
    {
     "name": "stdout",
     "output_type": "stream",
     "text": [
      "(20090, 12)\n"
     ]
    },
    {
     "data": {
      "text/plain": [
       "0.06441593496365183"
      ]
     },
     "execution_count": 61,
     "metadata": {},
     "output_type": "execute_result"
    }
   ],
   "source": [
    "dataq2 = pd.read_csv('prgeng.csv')\n",
    "print(dataq2.shape)\n",
    "dataq2.head()\n",
    "y_q2 = dataq2['wageinc']\n",
    "collist = dataq2.columns.tolist()\n",
    "collist.remove('wageinc')\n",
    "x_q2 = dataq2[collist]\n",
    "x_q2.head()\n",
    "x_q2['gender']=x_q2['sex']-1\n",
    "x_q2['interactionagegender'] = x_q2['age']*x_q2['gender']\n",
    "x_q2['interactionage^2'] = x_q2['interactionagegender'] * x_q2['age']\n",
    "x_q2['MS'] = np.where(x_q2['educ']==14, 1, 0)\n",
    "x_q2['PHD'] = np.where(x_q2['educ']==16, 1, 0)\n",
    "x_q2['interactionMSgender'] = x_q2['MS']*x_q2['gender']\n",
    "x_q2['interactionPHDgender'] = x_q2['PHD']*x_q2['gender']\n",
    "colsx = ['gender','age','educ','interactionagegender', 'interactionage^2', 'MS', 'PHD','interactionMSgender','interactionPHDgender']\n",
    "dropcol = ['sex','educ']\n",
    "x_q2.drop(dropcol,axis=1)\n",
    "x_q2.head()\n",
    "xq2_X = x_q2.loc[:,colsx]\n",
    "xq2_X_train = xq2_X[:-1000]\n",
    "yq2_train = y_q2[:-1000]\n",
    "xq2_X_test = xq2_X[-1000:]\n",
    "yq2_test = y_q2[-1000:]\n",
    "xq2_X_train.head()\n",
    "lr_q2 = LinearRegression(normalize=True).fit(xq2_X_train, yq2_train)\n",
    "lr_q2.score(xq2_X_test, yq2_test, sample_weight=None)\n"
   ]
  },
  {
   "cell_type": "markdown",
   "metadata": {},
   "source": [
    "Consider the bodyfat data mentioned in Section 1.2. Use lm() to form a prediction equation for density from the other variables (skipping the ﬁrst three), and comment on whether use of indirect methods in this way seems feasible.\n"
   ]
  },
  {
   "cell_type": "code",
   "execution_count": 55,
   "metadata": {},
   "outputs": [
    {
     "name": "stdout",
     "output_type": "stream",
     "text": [
      "(252, 18)\n"
     ]
    },
    {
     "data": {
      "text/plain": [
       "(0.548747067094588, 0.6653316732879837)"
      ]
     },
     "execution_count": 55,
     "metadata": {},
     "output_type": "execute_result"
    }
   ],
   "source": [
    "data = pd.read_csv('bodyfat.csv')\n",
    "print(data.shape)\n",
    "data.head()\n",
    "xdata = data.iloc[:,5:]\n",
    "ydata = data.iloc[:,4]\n",
    "ydata.head()\n",
    "X_train, X_test, y_train, y_test = train_test_split(xdata, ydata, test_size=0.4, random_state=0)\n",
    "X_train.shape, y_train.shape\n",
    "reg = KNeighborsRegressor(n_neighbors=3).fit(X_train, y_train)\n",
    "lr = LinearRegression(normalize=True).fit(X_train, y_train)\n",
    "reg.score(X_test, y_test, sample_weight=None), lr.score(X_test, y_test, sample_weight=None)"
   ]
  },
  {
   "cell_type": "markdown",
   "metadata": {},
   "source": [
    "In Section 1.19.5.2, we gave this intuitive explanation:\n",
    "In other words, the national mean height is a weighted average of the state means, with the weight for each state being its proportion of the national population. Replace state by gender in the following.\n",
    "(a) Write English prose that relates the overall mean height of people and the gender-speciﬁc mean heights.\n",
    "(b) Write English prose that relates the overall proportion of people taller than 70 inches to the gender-speciﬁc proportions"
   ]
  },
  {
   "cell_type": "markdown",
   "metadata": {},
   "source": [
    "Overall mean height is the average of gender wise mean height. As the two gender are roughly in equal proportion weighted average is not necessary. \n",
    "The total proportion of people taller than 70cm is the average of gender wise proportion."
   ]
  },
  {
   "cell_type": "markdown",
   "metadata": {},
   "source": [
    "1. Consider the census data in Section 1.16.1.\n",
    "(a) Form an approximate 95% conﬁdence interval for β6 in the model (1.28).\n",
    "(b) Form an approximate 95% conﬁdence interval for the gender eﬀect for Master’s degree holders, β6 + β7, in the model (1.28).\n",
    " "
   ]
  },
  {
   "cell_type": "code",
   "execution_count": 70,
   "metadata": {},
   "outputs": [
    {
     "name": "stdout",
     "output_type": "stream",
     "text": [
      "[(-94525.69611045612, 'gender'), (406.1598417248906, 'age'), (5558.802981928289, 'educ'), (4183.246858999556, 'interactionagegender'), (-48.42691890585947, 'interactionage^2'), (9585.53781505214, 'MS'), (9702.270175975575, 'PHD'), (-7837.943834368824, 'interactionMSgender'), (-19363.50795947597, 'interactionPHDgender')]\n"
     ]
    }
   ],
   "source": [
    "lr_q2.coef_\n",
    "print(list(zip(lr_q2.coef_, colsx)))"
   ]
  },
  {
   "cell_type": "code",
   "execution_count": null,
   "metadata": {
    "collapsed": true
   },
   "outputs": [],
   "source": []
  },
  {
   "cell_type": "markdown",
   "metadata": {},
   "source": [
    "The full bikeshare dataset spans 3 years’ time. Our analyses here have only used the ﬁrst year. Extend the analysis in Section 2.8.5 to the full data set, adding dummy variables indicating the second and third year. Form an approximate 95% conﬁdence interval for the diﬀerence between the coeﬃcients of these two dummies.\n"
   ]
  },
  {
   "cell_type": "code",
   "execution_count": null,
   "metadata": {
    "collapsed": true
   },
   "outputs": [],
   "source": []
  },
  {
   "cell_type": "markdown",
   "metadata": {},
   "source": [
    "Suppose we are studying growth patterns in children, at k particular ages. Denote the height of the ith child in our sample data at age j by Hij, with Hi = (Hi1,...,Hik)′ denoting the data for child i. Suppose the population distribution of each Hi is k-variate normal with mean vector µ and covariance matrix Σ. Say we are interested in successive diﬀerences in heights, Dij = Hi,j+1 −Hij, j = 1,2,...,k−1. Deﬁne Di = (Di1,...,Dik)′. Explain why each Di is (k−1)-variate normal, and derive matrix expressions for the mean vector and covariance matrices. "
   ]
  },
  {
   "cell_type": "code",
   "execution_count": null,
   "metadata": {
    "collapsed": true
   },
   "outputs": [],
   "source": []
  },
  {
   "cell_type": "markdown",
   "metadata": {},
   "source": [
    "In the simulation in Section 2.9.3, it is claimed that ρ2 = 0.50. Conﬁrm this through derivation.\n"
   ]
  },
  {
   "cell_type": "code",
   "execution_count": null,
   "metadata": {
    "collapsed": true
   },
   "outputs": [],
   "source": []
  }
 ],
 "metadata": {
  "kernelspec": {
   "display_name": "Python 3",
   "language": "python",
   "name": "python3"
  },
  "language_info": {
   "codemirror_mode": {
    "name": "ipython",
    "version": 3
   },
   "file_extension": ".py",
   "mimetype": "text/x-python",
   "name": "python",
   "nbconvert_exporter": "python",
   "pygments_lexer": "ipython3",
   "version": "3.6.2"
  }
 },
 "nbformat": 4,
 "nbformat_minor": 2
}
